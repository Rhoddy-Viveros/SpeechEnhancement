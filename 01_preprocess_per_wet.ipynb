{
 "cells": [
  {
   "cell_type": "code",
   "execution_count": 1,
   "metadata": {},
   "outputs": [],
   "source": [
    "import os\n",
    "import sys\n",
    "import numpy as np\n",
    "import torch\n",
    "from torch.utils.data import Dataset, DataLoader, Subset\n",
    "import pandas as pd\n",
    "import torchaudio\n",
    "import codes.utils\n",
    "from codes.preprocess_data import *"
   ]
  },
  {
   "cell_type": "code",
   "execution_count": 2,
   "metadata": {},
   "outputs": [],
   "source": [
    "main = os.path.abspath(os.path.join(os.getcwd(), os.pardir))"
   ]
  },
  {
   "cell_type": "code",
   "execution_count": 3,
   "metadata": {},
   "outputs": [],
   "source": [
    "FOLDER_ANNOTATIONS = \"datos/\"\n",
    "ANNOTATIONS_FILE = [\"train_set.txt\",\"test_set.txt\"]\n",
    "N_FOLDS = 4\n",
    "MBE_DIR_TR = \"features/\"+ ANNOTATIONS_FILE[0].split(\".\")[0]+\"/\"\n",
    "MBE_DIR_TE = \"features/\"+ ANNOTATIONS_FILE[1].split(\".\")[0]+\"/\"\n",
    "SAMPLE_RATE = 44100\n",
    "LEN_SEC = 300\n",
    "LEN_SAMPLES = LEN_SEC*SAMPLE_RATE\n",
    "__class_labels = {\n",
    "'perro'    : 0,\n",
    "'rana'     : 1,\n",
    "'lluvia'   : 2,\n",
    "'motor'    : 3,\n",
    "'ave'      : 4\n",
    "}\n",
    "N_FFT = 2048\n",
    "HOP = int(N_FFT/2)\n",
    "N_MELS = 40"
   ]
  },
  {
   "cell_type": "code",
   "execution_count": 4,
   "metadata": {},
   "outputs": [
    {
     "data": {
      "text/html": [
       "<div>\n",
       "<style scoped>\n",
       "    .dataframe tbody tr th:only-of-type {\n",
       "        vertical-align: middle;\n",
       "    }\n",
       "\n",
       "    .dataframe tbody tr th {\n",
       "        vertical-align: top;\n",
       "    }\n",
       "\n",
       "    .dataframe thead th {\n",
       "        text-align: right;\n",
       "    }\n",
       "</style>\n",
       "<table border=\"1\" class=\"dataframe\">\n",
       "  <thead>\n",
       "    <tr style=\"text-align: right;\">\n",
       "      <th></th>\n",
       "      <th>humedal</th>\n",
       "      <th>fecha</th>\n",
       "      <th>first_file</th>\n",
       "      <th>last_file</th>\n",
       "    </tr>\n",
       "  </thead>\n",
       "  <tbody>\n",
       "    <tr>\n",
       "      <th>0</th>\n",
       "      <td>Angachilla</td>\n",
       "      <td>20200109</td>\n",
       "      <td>1</td>\n",
       "      <td>24</td>\n",
       "    </tr>\n",
       "    <tr>\n",
       "      <th>1</th>\n",
       "      <td>Angachilla</td>\n",
       "      <td>20191027</td>\n",
       "      <td>169</td>\n",
       "      <td>192</td>\n",
       "    </tr>\n",
       "    <tr>\n",
       "      <th>2</th>\n",
       "      <td>Angachilla</td>\n",
       "      <td>20191028</td>\n",
       "      <td>289</td>\n",
       "      <td>312</td>\n",
       "    </tr>\n",
       "    <tr>\n",
       "      <th>3</th>\n",
       "      <td>Angachilla</td>\n",
       "      <td>20191029</td>\n",
       "      <td>313</td>\n",
       "      <td>336</td>\n",
       "    </tr>\n",
       "    <tr>\n",
       "      <th>4</th>\n",
       "      <td>Angachilla</td>\n",
       "      <td>20191030</td>\n",
       "      <td>337</td>\n",
       "      <td>360</td>\n",
       "    </tr>\n",
       "    <tr>\n",
       "      <th>...</th>\n",
       "      <td>...</td>\n",
       "      <td>...</td>\n",
       "      <td>...</td>\n",
       "      <td>...</td>\n",
       "    </tr>\n",
       "    <tr>\n",
       "      <th>70</th>\n",
       "      <td>El_Bosque</td>\n",
       "      <td>20201027</td>\n",
       "      <td>1681</td>\n",
       "      <td>1704</td>\n",
       "    </tr>\n",
       "    <tr>\n",
       "      <th>71</th>\n",
       "      <td>El_Bosque</td>\n",
       "      <td>20201028</td>\n",
       "      <td>1705</td>\n",
       "      <td>1728</td>\n",
       "    </tr>\n",
       "    <tr>\n",
       "      <th>72</th>\n",
       "      <td>El_Bosque</td>\n",
       "      <td>20201029</td>\n",
       "      <td>1729</td>\n",
       "      <td>1752</td>\n",
       "    </tr>\n",
       "    <tr>\n",
       "      <th>73</th>\n",
       "      <td>El_Bosque</td>\n",
       "      <td>20201030</td>\n",
       "      <td>1753</td>\n",
       "      <td>1776</td>\n",
       "    </tr>\n",
       "    <tr>\n",
       "      <th>74</th>\n",
       "      <td>El_Bosque</td>\n",
       "      <td>20201031</td>\n",
       "      <td>1777</td>\n",
       "      <td>1800</td>\n",
       "    </tr>\n",
       "  </tbody>\n",
       "</table>\n",
       "<p>75 rows × 4 columns</p>\n",
       "</div>"
      ],
      "text/plain": [
       "       humedal     fecha  first_file  last_file\n",
       "0   Angachilla  20200109           1         24\n",
       "1   Angachilla  20191027         169        192\n",
       "2   Angachilla  20191028         289        312\n",
       "3   Angachilla  20191029         313        336\n",
       "4   Angachilla  20191030         337        360\n",
       "..         ...       ...         ...        ...\n",
       "70   El_Bosque  20201027        1681       1704\n",
       "71   El_Bosque  20201028        1705       1728\n",
       "72   El_Bosque  20201029        1729       1752\n",
       "73   El_Bosque  20201030        1753       1776\n",
       "74   El_Bosque  20201031        1777       1800\n",
       "\n",
       "[75 rows x 4 columns]"
      ]
     },
     "metadata": {},
     "output_type": "display_data"
    }
   ],
   "source": [
    "REF = \"ref_num_file.txt\"\n",
    "df_wet = pd.read_csv(FOLDER_ANNOTATIONS + REF, sep = \" \")\n",
    "display(df_wet)"
   ]
  },
  {
   "cell_type": "code",
   "execution_count": 5,
   "metadata": {},
   "outputs": [],
   "source": [
    "wets = {\"Angachilla\":[],\"El_Bosque\":[],\"Miraflores\":[]}"
   ]
  },
  {
   "cell_type": "code",
   "execution_count": 6,
   "metadata": {},
   "outputs": [],
   "source": [
    "df_train = pd.read_csv(FOLDER_ANNOTATIONS+ANNOTATIONS_FILE[0],sep=\" \",\n",
    "                    names=[\"filepath\",\"start\",\"end\",\"class_name\"])\n",
    "audio_filenames_train = np.unique(df_train.filepath)"
   ]
  },
  {
   "cell_type": "code",
   "execution_count": 7,
   "metadata": {},
   "outputs": [],
   "source": [
    "df_test = pd.read_csv(FOLDER_ANNOTATIONS+ANNOTATIONS_FILE[1],sep=\" \",\n",
    "                    names=[\"filepath\",\"start\",\"end\",\"class_name\"])\n",
    "audio_filenames_test = np.unique(df_test.filepath)"
   ]
  },
  {
   "cell_type": "code",
   "execution_count": 8,
   "metadata": {},
   "outputs": [
    {
     "name": "stderr",
     "output_type": "stream",
     "text": [
      "/home/vpoblete/Escritorio/tesis/notebooks/sednet_pytorch/codes/preprocess_data.py:87: UserWarning: To copy construct from a tensor, it is recommended to use sourceTensor.clone().detach() or sourceTensor.clone().detach().requires_grad_(True), rather than torch.tensor(sourceTensor).\n",
      "  label_tensor = torch.tensor(label,device=device)\n"
     ]
    }
   ],
   "source": [
    "for i,file in enumerate(audio_filenames_train):\n",
    "    mbe,label = preprocess_data(file,main,FOLDER_ANNOTATIONS+ANNOTATIONS_FILE[0],SAMPLE_RATE,\n",
    "                                LEN_SAMPLES,N_FFT,HOP,N_MELS,__class_labels,device=\"cuda\")\n",
    "    numberfile = file.split(\"/\")[1].split(\".\")[0].replace(\"audio\",\"\")\n",
    "    k = codes.utils.num_2wet(df_wet,int(numberfile))\n",
    "    wets[k].append(mbe)\n",
    "    #namembe = \"{}mbe{}.pt\".format(MBE_DIR_TR,numberfile)\n",
    "    #namembe = os.path.join(main,namembe)\n",
    "    #torch.save({\"data\":mbe,\"label\":label}, namembe)\n",
    "    #mean_std = torch.cat((mean_std,mbe))"
   ]
  },
  {
   "cell_type": "code",
   "execution_count": 9,
   "metadata": {},
   "outputs": [],
   "source": [
    "for i,file in enumerate(audio_filenames_test):\n",
    "    mbe,label = preprocess_data(file,main,FOLDER_ANNOTATIONS+ANNOTATIONS_FILE[1],SAMPLE_RATE,\n",
    "                                LEN_SAMPLES,N_FFT,HOP,N_MELS,__class_labels,device=\"cuda\")\n",
    "    numberfile = file.split(\"/\")[1].split(\".\")[0].replace(\"audio\",\"\")\n",
    "    k = codes.utils.num_2wet(df_wet,int(numberfile))\n",
    "    wets[k].append(mbe)\n",
    "    #namembe = \"{}mbe{}.pt\".format(MBE_DIR_TE,numberfile)\n",
    "    #namembe = os.path.join(main,namembe)\n",
    "    #torch.save({\"data\":mbe,\"label\":label}, namembe)\n",
    "    #mean_std = torch.cat((mean_std,mbe))"
   ]
  },
  {
   "cell_type": "code",
   "execution_count": 10,
   "metadata": {},
   "outputs": [
    {
     "name": "stdout",
     "output_type": "stream",
     "text": [
      "{'Angachilla': tensor(-1.0951, device='cuda:0'), 'El_Bosque': tensor(-0.4757, device='cuda:0'), 'Miraflores': tensor(-1.7114, device='cuda:0')} {'Angachilla': tensor(2.6212, device='cuda:0'), 'El_Bosque': tensor(2.4989, device='cuda:0'), 'Miraflores': tensor(2.8110, device='cuda:0')}\n"
     ]
    }
   ],
   "source": [
    "mean = dict()\n",
    "std = dict()\n",
    "for k in wets.keys():\n",
    "    mean[k] = torch.mean(torch.stack(wets[k]))\n",
    "    std[k] = torch.std(torch.stack(wets[k]))\n",
    "print(mean, std)"
   ]
  },
  {
   "cell_type": "code",
   "execution_count": 11,
   "metadata": {},
   "outputs": [],
   "source": [
    "wets_z = {\"Angachilla\":[],\"El_Bosque\":[],\"Miraflores\":[]}"
   ]
  },
  {
   "cell_type": "code",
   "execution_count": 12,
   "metadata": {},
   "outputs": [],
   "source": [
    "for i,file in enumerate(audio_filenames_train):\n",
    "    mbe,label = preprocess_data(file,main,FOLDER_ANNOTATIONS+ANNOTATIONS_FILE[0],SAMPLE_RATE,\n",
    "                                LEN_SAMPLES,N_FFT,HOP,N_MELS,__class_labels,device=\"cuda\")\n",
    "    numberfile = file.split(\"/\")[1].split(\".\")[0].replace(\"audio\",\"\")\n",
    "    namembe = \"{}mbe{}.pt\".format(MBE_DIR_TR,numberfile)\n",
    "    k = codes.utils.num_2wet(df_wet,int(numberfile))\n",
    "    namembe = os.path.join(main,namembe)\n",
    "    mbe = (mbe-mean[k])/std[k]\n",
    "    torch.save({\"data\":mbe,\"label\":label}, namembe)\n",
    "    wets_z[k].append(mbe)"
   ]
  },
  {
   "cell_type": "code",
   "execution_count": 13,
   "metadata": {},
   "outputs": [],
   "source": [
    "for i,file in enumerate(audio_filenames_test):\n",
    "\n",
    "    mbe,label = preprocess_data(file,main,FOLDER_ANNOTATIONS+ANNOTATIONS_FILE[1],SAMPLE_RATE,\n",
    "                                LEN_SAMPLES,N_FFT,HOP,N_MELS,__class_labels,device=\"cuda\")\n",
    "    numberfile = file.split(\"/\")[1].split(\".\")[0].replace(\"audio\",\"\")\n",
    "    namembe = \"{}mbe{}.pt\".format(MBE_DIR_TE,numberfile)\n",
    "    k = codes.utils.num_2wet(df_wet,int(numberfile))\n",
    "    namembe = os.path.join(main,namembe)\n",
    "    mbe = (mbe-mean[k])/std[k]\n",
    "    torch.save({\"data\":mbe,\"label\":label}, namembe)\n",
    "    wets_z[k].append(mbe)"
   ]
  },
  {
   "cell_type": "code",
   "execution_count": 14,
   "metadata": {},
   "outputs": [
    {
     "name": "stdout",
     "output_type": "stream",
     "text": [
      "{'Angachilla': tensor(-1.8613e-08, device='cuda:0'), 'El_Bosque': tensor(-1.4235e-08, device='cuda:0'), 'Miraflores': tensor(1.6755e-08, device='cuda:0')} {'Angachilla': tensor(1.0000, device='cuda:0'), 'El_Bosque': tensor(1., device='cuda:0'), 'Miraflores': tensor(1.0000, device='cuda:0')}\n"
     ]
    }
   ],
   "source": [
    "mean_z = dict()\n",
    "std_z = dict()\n",
    "for k in wets.keys():\n",
    "    mean_z[k] = torch.mean(torch.stack(wets_z[k]))\n",
    "    std_z[k] = torch.std(torch.stack(wets_z[k]))\n",
    "print(mean_z, std_z)"
   ]
  }
 ],
 "metadata": {
  "interpreter": {
   "hash": "2c2ae1fa8f4c727dd589fb2bff9478f53eaab7b86ff56190838baa3205820518"
  },
  "kernelspec": {
   "display_name": "Python 3",
   "language": "python",
   "name": "python3"
  },
  "language_info": {
   "codemirror_mode": {
    "name": "ipython",
    "version": 3
   },
   "file_extension": ".py",
   "mimetype": "text/x-python",
   "name": "python",
   "nbconvert_exporter": "python",
   "pygments_lexer": "ipython3",
   "version": "3.9.5"
  }
 },
 "nbformat": 4,
 "nbformat_minor": 2
}
