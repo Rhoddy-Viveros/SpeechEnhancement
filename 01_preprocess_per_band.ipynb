{
 "cells": [
  {
   "cell_type": "code",
   "execution_count": 1,
   "metadata": {},
   "outputs": [],
   "source": [
    "import os\n",
    "import sys\n",
    "import numpy as np\n",
    "import torch\n",
    "from torch.utils.data import Dataset, DataLoader, Subset\n",
    "import pandas as pd\n",
    "import torchaudio\n",
    "import codes.utils\n",
    "from codes.preprocess_data import *"
   ]
  },
  {
   "cell_type": "code",
   "execution_count": 2,
   "metadata": {},
   "outputs": [],
   "source": [
    "main = os.path.abspath(os.path.join(os.getcwd(), os.pardir))"
   ]
  },
  {
   "cell_type": "code",
   "execution_count": 3,
   "metadata": {},
   "outputs": [],
   "source": [
    "FOLDER_ANNOTATIONS = \"datos/\"\n",
    "ANNOTATIONS_FILE = [\"train_set.txt\",\"test_set.txt\"]\n",
    "N_FOLDS = 4\n",
    "MBE_DIR_TR = \"features/\"+ ANNOTATIONS_FILE[0].split(\".\")[0]+\"/\"\n",
    "MBE_DIR_TE = \"features/\"+ ANNOTATIONS_FILE[1].split(\".\")[0]+\"/\"\n",
    "SAMPLE_RATE = 44100\n",
    "LEN_SEC = 300\n",
    "LEN_SAMPLES = LEN_SEC*SAMPLE_RATE\n",
    "__class_labels = {\n",
    "'perro'    : 0,\n",
    "'rana'     : 1,\n",
    "'lluvia'   : 2,\n",
    "'motor'    : 3,\n",
    "'ave'      : 4\n",
    "}\n",
    "N_FFT = 2048\n",
    "HOP = int(N_FFT/2)\n",
    "N_MELS = 40"
   ]
  },
  {
   "cell_type": "code",
   "execution_count": 4,
   "metadata": {},
   "outputs": [],
   "source": [
    "df_train = pd.read_csv(FOLDER_ANNOTATIONS+ANNOTATIONS_FILE[0],sep=\" \",\n",
    "                    names=[\"filepath\",\"start\",\"end\",\"class_name\"])\n",
    "audio_filenames_train = np.unique(df_train.filepath)"
   ]
  },
  {
   "cell_type": "code",
   "execution_count": 5,
   "metadata": {},
   "outputs": [],
   "source": [
    "df_test = pd.read_csv(FOLDER_ANNOTATIONS+ANNOTATIONS_FILE[1],sep=\" \",\n",
    "                    names=[\"filepath\",\"start\",\"end\",\"class_name\"])\n",
    "audio_filenames_test = np.unique(df_test.filepath)"
   ]
  },
  {
   "cell_type": "code",
   "execution_count": 6,
   "metadata": {},
   "outputs": [
    {
     "name": "stderr",
     "output_type": "stream",
     "text": [
      "/home/vpoblete/Escritorio/tesis/notebooks/sednet_pytorch/codes/preprocess_data.py:87: UserWarning: To copy construct from a tensor, it is recommended to use sourceTensor.clone().detach() or sourceTensor.clone().detach().requires_grad_(True), rather than torch.tensor(sourceTensor).\n",
      "  label_tensor = torch.tensor(label,device=device)\n"
     ]
    }
   ],
   "source": [
    "for i,file in enumerate(audio_filenames_train):\n",
    "    mbe,label = preprocess_data(file,main,FOLDER_ANNOTATIONS+ANNOTATIONS_FILE[0],SAMPLE_RATE,\n",
    "                                LEN_SAMPLES,N_FFT,HOP,N_MELS,__class_labels,device=\"cuda\")\n",
    "    numberfile = file.split(\"/\")[1].split(\".\")[0].replace(\"audio\",\"\")\n",
    "    namembe = \"{}mbe{}.pt\".format(MBE_DIR_TR,numberfile)\n",
    "    namembe = os.path.join(main,namembe)\n",
    "    std = torch.std(mbe,2).view(mbe.shape[0],mbe.shape[1],1)\n",
    "    mean = torch.mean(mbe,2).view(mbe.shape[0],mbe.shape[1],1)\n",
    "    mbe = (mbe-mean)/std\n",
    "    torch.save({\"data\":mbe,\"label\":label}, namembe)"
   ]
  },
  {
   "cell_type": "code",
   "execution_count": 7,
   "metadata": {},
   "outputs": [],
   "source": [
    "for i,file in enumerate(audio_filenames_test):\n",
    "    mbe,label = preprocess_data(file,main,FOLDER_ANNOTATIONS+ANNOTATIONS_FILE[1],SAMPLE_RATE,\n",
    "                                LEN_SAMPLES,N_FFT,HOP,N_MELS,__class_labels,device=\"cuda\")\n",
    "    numberfile = file.split(\"/\")[1].split(\".\")[0].replace(\"audio\",\"\")\n",
    "    namembe = \"{}mbe{}.pt\".format(MBE_DIR_TE,numberfile)\n",
    "    namembe = os.path.join(main,namembe)\n",
    "    std = torch.std(mbe,2).view(mbe.shape[0],mbe.shape[1],1)\n",
    "    mean = torch.mean(mbe,2).view(mbe.shape[0],mbe.shape[1],1)\n",
    "    mbe = (mbe-mean)/std\n",
    "    torch.save({\"data\":mbe,\"label\":label}, namembe)"
   ]
  }
 ],
 "metadata": {
  "interpreter": {
   "hash": "2c2ae1fa8f4c727dd589fb2bff9478f53eaab7b86ff56190838baa3205820518"
  },
  "kernelspec": {
   "display_name": "Python 3",
   "language": "python",
   "name": "python3"
  },
  "language_info": {
   "codemirror_mode": {
    "name": "ipython",
    "version": 3
   },
   "file_extension": ".py",
   "mimetype": "text/x-python",
   "name": "python",
   "nbconvert_exporter": "python",
   "pygments_lexer": "ipython3",
   "version": "3.9.5"
  }
 },
 "nbformat": 4,
 "nbformat_minor": 2
}
