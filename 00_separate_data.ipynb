{
 "cells": [
  {
   "cell_type": "code",
   "execution_count": null,
   "metadata": {},
   "outputs": [],
   "source": [
    "import pandas as pd \n",
    "from sklearn.model_selection import train_test_split\n",
    "import numpy as np \n",
    "from codes.utils import create_set"
   ]
  },
  {
   "cell_type": "code",
   "execution_count": null,
   "metadata": {},
   "outputs": [],
   "source": [
    "ANNOTATIONS_FILE = \"datos/groundtruth_720_no_siren.txt\"\n",
    "COLUMNS = [\"filenames\",\"start\",\"end\",\"class\"]\n",
    "GROUNDTRUTH = pd.read_csv(ANNOTATIONS_FILE, sep=\" \",names=COLUMNS)\n",
    "FILENAMES = np.unique(GROUNDTRUTH.filenames)"
   ]
  },
  {
   "cell_type": "code",
   "execution_count": null,
   "metadata": {},
   "outputs": [],
   "source": [
    "files_train,files_test = train_test_split(FILENAMES, test_size=0.2)\n",
    "train = create_set(files_train, GROUNDTRUTH)\n",
    "test = create_set(files_test, GROUNDTRUTH)\n",
    "train.to_csv(\"datos/train_set.txt\",sep =\" \",index=False,header=False)\n",
    "test.to_csv(\"datos/test_set.txt\",sep =\" \",index=False,header=False)"
   ]
  },
  {
   "cell_type": "code",
   "execution_count": null,
   "metadata": {},
   "outputs": [],
   "source": []
  }
 ],
 "metadata": {
  "kernelspec": {
   "display_name": "Python 3",
   "language": "python",
   "name": "python3"
  },
  "language_info": {
   "codemirror_mode": {
    "name": "ipython",
    "version": 3
   },
   "file_extension": ".py",
   "mimetype": "text/x-python",
   "name": "python",
   "nbconvert_exporter": "python",
   "pygments_lexer": "ipython3",
   "version": "3.9.5"
  }
 },
 "nbformat": 4,
 "nbformat_minor": 2
}
